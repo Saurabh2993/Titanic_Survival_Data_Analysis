{
 "cells": [
  {
   "cell_type": "markdown",
   "metadata": {},
   "source": [
    "## Titanic Survival Data Analysis\n",
    "\n",
    "Here I am going to analyze the survival data for the RMS Titanic shipwreck that occured in 1912. I will be analyzing demograghic characteristics of the population that was aboard the Titanic during its maiden voyage. I will be finding out what factors made a person more likely to survive (in this case, getting onto a lifeboat).\n",
    "\n",
    "The questions that will be answered from this analysis:\n",
    "1. Did the person's gender increase the chances of getting on a lifeboat?\n",
    "2. Did the person's ticket class increase the chances of getting on a lifeboat?\n",
    "3. Did the person's age play a role in ther survival?"
   ]
  },
  {
   "cell_type": "markdown",
   "metadata": {},
   "source": [
    "First we see if there are any missing elements in our data."
   ]
  },
  {
   "cell_type": "code",
   "execution_count": 59,
   "metadata": {},
   "outputs": [
    {
     "name": "stdout",
     "output_type": "stream",
     "text": [
      "       PassengerId    Survived      Pclass         Age       SibSp  \\\n",
      "count   891.000000  891.000000  891.000000  714.000000  891.000000   \n",
      "mean    446.000000    0.383838    2.308642   29.699118    0.523008   \n",
      "std     257.353842    0.486592    0.836071   14.526497    1.102743   \n",
      "min       1.000000    0.000000    1.000000    0.420000    0.000000   \n",
      "25%     223.500000    0.000000    2.000000   20.125000    0.000000   \n",
      "50%     446.000000    0.000000    3.000000   28.000000    0.000000   \n",
      "75%     668.500000    1.000000    3.000000   38.000000    1.000000   \n",
      "max     891.000000    1.000000    3.000000   80.000000    8.000000   \n",
      "\n",
      "            Parch        Fare  \n",
      "count  891.000000  891.000000  \n",
      "mean     0.381594   32.204208  \n",
      "std      0.806057   49.693429  \n",
      "min      0.000000    0.000000  \n",
      "25%      0.000000    7.910400  \n",
      "50%      0.000000   14.454200  \n",
      "75%      0.000000   31.000000  \n",
      "max      6.000000  512.329200  \n"
     ]
    }
   ],
   "source": [
    "import unicodecsv\n",
    "import collections\n",
    "import pandas as pd\n",
    "import numpy as np\n",
    "import matplotlib.pyplot as plt\n",
    "import seaborn as sns\n",
    "\n",
    "titanic_passengers = pd.read_csv('titanic_data.csv')\n",
    "total_passenger_count = len(titanic_passengers)\n",
    "print(titanic_passengers.describe())"
   ]
  },
  {
   "cell_type": "markdown",
   "metadata": {},
   "source": [
    "As we can see from the above description, we have some missing values in our Age category. I will be inserting random values in place of those empty values, replacing them with values that lie in the range of 1 standard deviation (positive and negative) of the mean."
   ]
  },
  {
   "cell_type": "code",
   "execution_count": 60,
   "metadata": {},
   "outputs": [
    {
     "name": "stdout",
     "output_type": "stream",
     "text": [
      "       PassengerId    Survived      Pclass         Age       SibSp  \\\n",
      "count   891.000000  891.000000  891.000000  891.000000  891.000000   \n",
      "mean    446.000000    0.383838    2.308642   29.353726    0.523008   \n",
      "std     257.353842    0.486592    0.836071   13.500401    1.102743   \n",
      "min       1.000000    0.000000    1.000000    0.420000    0.000000   \n",
      "25%     223.500000    0.000000    2.000000   20.750000    0.000000   \n",
      "50%     446.000000    0.000000    3.000000   28.000000    0.000000   \n",
      "75%     668.500000    1.000000    3.000000   37.000000    1.000000   \n",
      "max     891.000000    1.000000    3.000000   80.000000    8.000000   \n",
      "\n",
      "            Parch        Fare  \n",
      "count  891.000000  891.000000  \n",
      "mean     0.381594   32.204208  \n",
      "std      0.806057   49.693429  \n",
      "min      0.000000    0.000000  \n",
      "25%      0.000000    7.910400  \n",
      "50%      0.000000   14.454200  \n",
      "75%      0.000000   31.000000  \n",
      "max      6.000000  512.329200  \n"
     ]
    },
    {
     "name": "stderr",
     "output_type": "stream",
     "text": [
      "C:\\Users\\saura\\Anaconda3\\lib\\site-packages\\ipykernel\\__main__.py:3: SettingWithCopyWarning: \n",
      "A value is trying to be set on a copy of a slice from a DataFrame\n",
      "\n",
      "See the caveats in the documentation: http://pandas.pydata.org/pandas-docs/stable/indexing.html#indexing-view-versus-copy\n",
      "  app.launch_new_instance()\n"
     ]
    }
   ],
   "source": [
    "nan_age_count = titanic_passengers['Age'].isnull().sum()\n",
    "random_age = np.random.randint(titanic_passengers['Age'].mean() - titanic_passengers['Age'].std(), titanic_passengers['Age'].mean() + titanic_passengers['Age'].std(), nan_age_count)\n",
    "titanic_passengers['Age'][titanic_passengers['Age'].isnull()] = random_age\n",
    "print(titanic_passengers.describe())"
   ]
  },
  {
   "cell_type": "markdown",
   "metadata": {},
   "source": [
    "Now that I replaced the missing values, I will split my passenger group into two groups using the pandas' groupby function. One group will have all the passengers that survived and the other one will have all passengers that died in the shipwreck."
   ]
  },
  {
   "cell_type": "code",
   "execution_count": 61,
   "metadata": {},
   "outputs": [
    {
     "name": "stdout",
     "output_type": "stream",
     "text": [
      "       PassengerId  Survived      Pclass         Age       SibSp       Parch  \\\n",
      "count   342.000000     342.0  342.000000  342.000000  342.000000  342.000000   \n",
      "mean    444.368421       1.0    1.950292   28.361608    0.473684    0.464912   \n",
      "std     252.358840       0.0    0.863321   14.093736    0.708688    0.771712   \n",
      "min       2.000000       1.0    1.000000    0.420000    0.000000    0.000000   \n",
      "25%     250.750000       1.0    1.000000   19.000000    0.000000    0.000000   \n",
      "50%     439.500000       1.0    2.000000   28.000000    0.000000    0.000000   \n",
      "75%     651.500000       1.0    3.000000   36.000000    1.000000    1.000000   \n",
      "max     890.000000       1.0    3.000000   80.000000    4.000000    5.000000   \n",
      "\n",
      "             Fare  \n",
      "count  342.000000  \n",
      "mean    48.395408  \n",
      "std     66.596998  \n",
      "min      0.000000  \n",
      "25%     12.475000  \n",
      "50%     26.000000  \n",
      "75%     57.000000  \n",
      "max    512.329200  \n",
      "       PassengerId  Survived      Pclass         Age       SibSp       Parch  \\\n",
      "count   549.000000     549.0  549.000000  549.000000  549.000000  549.000000   \n",
      "mean    447.016393       0.0    2.531876   29.971767    0.553734    0.329690   \n",
      "std     260.640469       0.0    0.735805   13.092304    1.288399    0.823166   \n",
      "min       1.000000       0.0    1.000000    1.000000    0.000000    0.000000   \n",
      "25%     211.000000       0.0    2.000000   21.000000    0.000000    0.000000   \n",
      "50%     455.000000       0.0    3.000000   28.000000    0.000000    0.000000   \n",
      "75%     675.000000       0.0    3.000000   37.000000    1.000000    0.000000   \n",
      "max     891.000000       0.0    3.000000   74.000000    8.000000    6.000000   \n",
      "\n",
      "             Fare  \n",
      "count  549.000000  \n",
      "mean    22.117887  \n",
      "std     31.388207  \n",
      "min      0.000000  \n",
      "25%      7.854200  \n",
      "50%     10.500000  \n",
      "75%     26.000000  \n",
      "max    263.000000  \n"
     ]
    },
    {
     "data": {
      "text/plain": [
       "<matplotlib.axes._subplots.AxesSubplot at 0x19b73ef1f28>"
      ]
     },
     "execution_count": 61,
     "metadata": {},
     "output_type": "execute_result"
    },
    {
     "data": {
      "image/png": "[encoded data removed]",
      "text/plain": [
       "<matplotlib.figure.Figure at 0x19b73f20fd0>"
      ]
     },
     "metadata": {},
     "output_type": "display_data"
    }
   ],
   "source": [
    "passengers_split = titanic_passengers.groupby('Survived')\n",
    "survived_passengers = passengers_split.get_group(1)\n",
    "dead_passengers = passengers_split.get_group(0)\n",
    "print(survived_passengers.describe())\n",
    "print(dead_passengers.describe())\n",
    "\n",
    "sns.distplot(titanic_passengers['Age'], rug = True, hist = False, color = 'b')\n",
    "sns.distplot(survived_passengers['Age'], rug = True, hist = False, color = 'g')\n",
    "sns.distplot(dead_passengers['Age'], rug = True, hist = False, color = 'r')"
   ]
  },
  {
   "cell_type": "markdown",
   "metadata": {},
   "source": [
    "From the above distribution plot we can deduce that a lot of the passengers were of the age range 20 to 40 years.\n",
    "The overlapping plots indicate that the survival/death rate for all age groups were almost proportional to each other. The only variation we can observe is that the survival rate of children was slightly higher than other age groups (note the green bump at the start of our plot)."
   ]
  },
  {
   "cell_type": "markdown",
   "metadata": {},
   "source": [
    "Now I will try to answer question 1 mentioned above:\n",
    "\n",
    "Did the person's gender increase the chances of getting on a lifeboat?\n",
    "\n",
    "To do this I will split my passengers' groups (All passengers, survived passengers and dead passengers) based on their sex. Once I have done that I will find the percentages of male and female passengers that survived/died w.r.t. the total male and female passengers that were onboard."
   ]
  },
  {
   "cell_type": "code",
   "execution_count": 62,
   "metadata": {},
   "outputs": [
    {
     "data": {
      "image/png": "[encoded data removed]",
      "text/plain": [
       "<matplotlib.figure.Figure at 0x19b73d78cf8>"
      ]
     },
     "metadata": {},
     "output_type": "display_data"
    }
   ],
   "source": [
    "def get_gender_split(data):\n",
    "    data_split = data.groupby('Sex')\n",
    "    return (data_split.get_group('male'), data_split.get_group('female'))\n",
    "\n",
    "%matplotlib inline\n",
    "titanic_passengers_gender = get_gender_split(titanic_passengers)\n",
    "titanic_passengers_gender_count = np.array([len(titanic_passengers_gender[0]), len(titanic_passengers_gender[1])])\n",
    "\n",
    "survived_passengers_gender = get_gender_split(survived_passengers)\n",
    "survived_passengers_gender_count = np.array([len(survived_passengers_gender[0]), len(survived_passengers_gender[1])])\n",
    "\n",
    "dead_passengers_gender = get_gender_split(dead_passengers)\n",
    "dead_passengers_gender_count = np.array([len(dead_passengers_gender[0]), len(dead_passengers_gender[1])])\n",
    "\n",
    "n_groups = 2\n",
    "fig, ax = plt.subplots()\n",
    "index = np.arange(n_groups)\n",
    "bar_width = 0.4\n",
    "opacity = 0.8\n",
    "rects1 = plt.bar(index, survived_passengers_gender_count * 100 / titanic_passengers_gender_count, bar_width, alpha = opacity, color = 'royalblue', label = 'Survived')\n",
    "rects2 = plt.bar(index + bar_width, dead_passengers_gender_count * 100 / titanic_passengers_gender_count, bar_width, alpha = opacity, color = 'darkslategrey', label = 'Dead')\n",
    "\n",
    "plt.ylabel('Percentage')\n",
    "plt.ylim([0, 100])\n",
    "plt.yticks(np.arange(0, 100, 10))\n",
    "plt.xlabel('Survived/Dead')\n",
    "plt.title('Passengers Survived/Dead Split by Gender')\n",
    "plt.xticks(index + bar_width / 2, ('Male', 'Female'))\n",
    "plt.legend()\n",
    "plt.tight_layout()\n",
    "plt.show()"
   ]
  },
  {
   "cell_type": "markdown",
   "metadata": {},
   "source": [
    "Judging from the above bar graph we can see that approximately 80% of the male passengers that were onboard died during the disaster. However we see an almost opposing trend when it comes to female passengers. Approximately 82% of the female passengers onboard survived.\n",
    "\n",
    "So we can possibly say that women were given higher priority as compared to men when it came to evacuating the ship."
   ]
  },
  {
   "cell_type": "markdown",
   "metadata": {},
   "source": [
    "We move to the next question:\n",
    "\n",
    "Did the person's ticket class increase the chances of getting on a lifeboat?\n",
    "\n",
    "Similar to the above process, even here we split our groups of passengers based on their 'Ticket Class' (column: 'Pclass') and find the percentage of survived/dead passengers w.r.t. the total passengers in each group."
   ]
  },
  {
   "cell_type": "code",
   "execution_count": 63,
   "metadata": {},
   "outputs": [
    {
     "data": {
      "image/png": "[encoded data removed]",
      "text/plain": [
       "<matplotlib.figure.Figure at 0x19b6d837f28>"
      ]
     },
     "metadata": {},
     "output_type": "display_data"
    }
   ],
   "source": [
    "def get_class_split(data):\n",
    "    data_split = data.groupby('Pclass')\n",
    "    return (data_split.get_group(1), data_split.get_group(2), data_split.get_group(3))\n",
    "    \n",
    "%matplotlib inline\n",
    "titanic_passengers_class = get_class_split(titanic_passengers)\n",
    "titanic_passengers_class_count = np.array([len(titanic_passengers_class[0]), len(titanic_passengers_class[1]), len(titanic_passengers_class[2])])\n",
    "\n",
    "survived_passengers_class = get_class_split(survived_passengers)\n",
    "survived_passengers_class_count = np.array([len(survived_passengers_class[0]), len(survived_passengers_class[1]), len(survived_passengers_class[2])])\n",
    "\n",
    "dead_passengers_class = get_class_split(dead_passengers)\n",
    "dead_passengers_class_count = np.array([len(dead_passengers_class[0]), len(dead_passengers_class[1]), len(dead_passengers_class[2])])\n",
    "\n",
    "n_groups = 3\n",
    "fig, ax = plt.subplots()\n",
    "index = np.arange(n_groups)\n",
    "bar_width = 0.4\n",
    "opacity = 0.8\n",
    "rects1 = plt.bar(index, survived_passengers_class_count * 100 / titanic_passengers_class_count, bar_width, alpha = opacity, color = 'cadetblue', label = 'Survived')\n",
    "rects2 = plt.bar(index + bar_width, dead_passengers_class_count * 100 / titanic_passengers_class_count, bar_width, alpha = opacity, color = 'indianred', label = 'Dead')\n",
    "\n",
    "plt.ylabel('Percentage')\n",
    "plt.xlabel('Survived/Dead')\n",
    "plt.title('Passengers Survived/Dead Split by Ticket Class')\n",
    "plt.xticks(index + bar_width / 2, ('1st Class', '2nd Class', '3rd Class'))\n",
    "plt.legend()\n",
    "plt.tight_layout()\n",
    "plt.show()"
   ]
  },
  {
   "cell_type": "markdown",
   "metadata": {},
   "source": [
    "As per the ticket class, we are given that:\n",
    "1st = Upper\n",
    "2nd = Middle\n",
    "3rd = Lower\n",
    "\n",
    "From the above graph we can see that as we move from a higher class to a lower class, the survival percentage of passengers decreases. 1st Class had the highest survival rate whereas the 3rd Class had the lowest survival rate. So we can hypothesize that higher the class, higher the chances of survival. "
   ]
  },
  {
   "cell_type": "markdown",
   "metadata": {},
   "source": [
    "Moving onto the next question:\n",
    "\n",
    "Did the person's age play a role in ther survival?\n",
    "\n",
    "To answer this question we split our groups of passengers into three age groups: children, adults and elderly. Based on these groups we find out the percent survival/death rate of each group."
   ]
  },
  {
   "cell_type": "code",
   "execution_count": 64,
   "metadata": {},
   "outputs": [
    {
     "data": {
      "image/png": "[encoded data removed]",
      "text/plain": [
       "<matplotlib.figure.Figure at 0x19b76e153c8>"
      ]
     },
     "metadata": {},
     "output_type": "display_data"
    }
   ],
   "source": [
    "def get_age_group_split(data):\n",
    "    age_groups = pd.cut(data['Age'], [0, 18, 60, np.inf], labels = ['Children', 'Adults', 'Elderly'])\n",
    "    return (np.argwhere(age_groups == \"Children\"), np.argwhere(age_groups == \"Adults\"), np.argwhere(age_groups == \"Elderly\"))\n",
    "\n",
    "%matplotlib inline\n",
    "\n",
    "titanic_passengers_age_group = get_age_group_split(titanic_passengers)\n",
    "titanic_passengers_age_group_count = np.array([len(titanic_passengers_age_group[0]), len(titanic_passengers_age_group[1]), len(titanic_passengers_age_group[2])])\n",
    "\n",
    "survived_passengers_age_group = get_age_group_split(survived_passengers)\n",
    "survived_passengers_age_group_count = np.array([len(survived_passengers_age_group[0]), len(survived_passengers_age_group[1]), len(survived_passengers_age_group[2])])\n",
    "\n",
    "dead_passengers_age_group = get_age_group_split(dead_passengers)\n",
    "dead_passengers_age_group_count = np.array([len(dead_passengers_age_group[0]), len(dead_passengers_age_group[1]), len(dead_passengers_age_group[2])])\n",
    "\n",
    "n_groups = 3\n",
    "fig, ax = plt.subplots()\n",
    "index = np.arange(n_groups)\n",
    "bar_width = 0.4\n",
    "opacity = 0.8\n",
    "rects1 = plt.bar(index, survived_passengers_age_group_count * 100 / titanic_passengers_age_group_count, bar_width, alpha = opacity, color = 'cornflowerblue', label = 'Survived')\n",
    "rects2 = plt.bar(index + bar_width, dead_passengers_age_group_count * 100 / titanic_passengers_age_group_count, bar_width, alpha = opacity, color = 'firebrick', label = 'Dead')\n",
    "\n",
    "plt.ylabel('Percentage')\n",
    "plt.xlabel('Survived/Dead')\n",
    "plt.title('Passengers Survived/Dead Split by Age Group')\n",
    "plt.xticks(index + bar_width / 2, ('Children', 'Adult', 'Elderly'))\n",
    "plt.legend()\n",
    "plt.tight_layout()\n",
    "plt.show()"
   ]
  },
  {
   "cell_type": "markdown",
   "metadata": {},
   "source": [
    "Judging from the above bar graph, we do not see a fixed pattern in the survival rates of each group. The highest survival rate was that of children at around 48%. As we move to higher age groups we can see that the survival percentage decreased. The only hypothesis that we can draw from this is that possibly children were given more priority as compared to other age group. This validates our observations from the distribution plot above. However, it is not clear how the ship crew could have efficiently grouped people into age groups during the calamity."
   ]
  },
  {
   "cell_type": "markdown",
   "metadata": {},
   "source": [
    "### Conclusion:\n",
    "1. The chances of women surviving the shipwreck are higher as compared to men.\n",
    "2. People with a first class ticket had highest chances of survival as compared to other classes. Chances of survival of someone with a second class ticket are higher as compared to someone with a third class ticket, however the chances are less as compared to someone with a first class ticket.\n",
    "3. Age probably might not have a very big role to play in chances of survival except for children. Wherein children were given priority over other age groups.\n",
    "\n",
    "We are successfully able to answer our initial questions. The plots also provide clear visualisations that help validate our observations."
   ]
  },
  {
   "cell_type": "markdown",
   "metadata": {},
   "source": [
    "### Limitations:\n",
    "1. I initially came across some missing values in the age field of the data. To deal with these missing values, I replaced the missing values with random values chosen from the range of one standard deviation below and above the mean age.\n",
    "2. To improve the analysis, we can analyze the data based on the number of parents or siblings were onboard. This will tell us how many families of what family size were onboard which we can further analyze to find the chances of survival of a person belonging to a family."
   ]
  },
  {
   "cell_type": "markdown",
   "metadata": {},
   "source": [
    "### References:\n",
    "1. https://docs.scipy.org/doc/\n",
    "2. http://pandas.pydata.org/\n",
    "3. https://matplotlib.org/examples/color/named_colors.html\n",
    "4. https://www.kaggle.io/svf/924638/c05c7b2409e224c760cdfb527a8dcfc4/__results__.html#load-and-check-data"
   ]
  }
 ],
 "metadata": {
  "kernelspec": {
   "display_name": "Python [default]",
   "language": "python",
   "name": "python3"
  },
  "language_info": {
   "codemirror_mode": {
    "name": "ipython",
    "version": 3
   },
   "file_extension": ".py",
   "mimetype": "text/x-python",
   "name": "python",
   "nbconvert_exporter": "python",
   "pygments_lexer": "ipython3",
   "version": "3.6.1"
  }
 },
 "nbformat": 4,
 "nbformat_minor": 2
}
